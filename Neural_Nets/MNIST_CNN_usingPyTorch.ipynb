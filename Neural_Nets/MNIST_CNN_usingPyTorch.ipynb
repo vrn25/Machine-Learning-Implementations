{
  "nbformat": 4,
  "nbformat_minor": 0,
  "metadata": {
    "colab": {
      "name": "MNIST_CNN_usingPyTorch.ipynb",
      "provenance": []
    },
    "kernelspec": {
      "name": "python3",
      "display_name": "Python 3"
    },
    "accelerator": "GPU"
  },
  "cells": [
    {
      "cell_type": "code",
      "metadata": {
        "id": "HaQDbh6FDUa7",
        "colab_type": "code",
        "colab": {}
      },
      "source": [
        "import torch\n",
        "import torchvision\n",
        "import torch.nn as nn\n",
        "import torch.nn.functional as F\n",
        "import torchvision.transforms as transforms\n",
        "import numpy as np\n",
        "import pandas as pd\n",
        "import matplotlib.pyplot as plt\n",
        "import torch.optim as optim\n",
        "%matplotlib inline\n",
        "import seaborn as sn\n",
        "from sklearn.metrics import confusion_matrix\n",
        "from sklearn.metrics import classification_report \n",
        "from torch.utils.tensorboard import SummaryWriter\n",
        "from itertools import product\n",
        "from torch.utils.data.sampler import SubsetRandomSampler"
      ],
      "execution_count": 0,
      "outputs": []
    },
    {
      "cell_type": "code",
      "metadata": {
        "id": "zqJcJ4g0IM0t",
        "colab_type": "code",
        "colab": {
          "base_uri": "https://localhost:8080/",
          "height": 35
        },
        "outputId": "90861657-73a0-4f31-f5f0-ac88875db7b5"
      },
      "source": [
        "torch.set_default_dtype(torch.float64)\n",
        "torch.set_default_tensor_type('torch.cuda.FloatTensor')\n",
        "device = \"cuda\" if torch.cuda.is_available() else \"cpu\"\n",
        "print(device)"
      ],
      "execution_count": 2,
      "outputs": [
        {
          "output_type": "stream",
          "text": [
            "cuda\n"
          ],
          "name": "stdout"
        }
      ]
    },
    {
      "cell_type": "code",
      "metadata": {
        "id": "l1KCOpToDf8_",
        "colab_type": "code",
        "colab": {}
      },
      "source": [
        "class Network(nn.Module):\n",
        "    def __init__(self):\n",
        "        super(Network,self).__init__()\n",
        "        self.conv1 = nn.Conv2d(in_channels=1,out_channels=6,kernel_size=1)\n",
        "        self.conv2 = nn.Conv2d(in_channels=6,out_channels=16,kernel_size=5)\n",
        "        self.fc1 = nn.Linear(in_features=16*5*5,out_features=120)\n",
        "        self.fc2 = nn.Linear(in_features=120,out_features=84)\n",
        "        self.out = nn.Linear(in_features=84,out_features=10)\n",
        "        self.leakyrelu = nn.LeakyReLU(negative_slope=0.2)\n",
        "\n",
        "    def forward(self,t):\n",
        "        t = self.leakyrelu(self.conv1(t))\n",
        "        t = F.max_pool2d(t,kernel_size=2,stride=2)\n",
        "        t = self.leakyrelu(self.conv2(t))\n",
        "        t = F.max_pool2d(t,kernel_size=2,stride=2)\n",
        "        t = t.reshape(-1,16*5*5)\n",
        "        t = self.leakyrelu(self.fc1(t))\n",
        "        t = self.leakyrelu(self.fc2(t))\n",
        "        t = self.out(t)\n",
        "        return t"
      ],
      "execution_count": 0,
      "outputs": []
    },
    {
      "cell_type": "code",
      "metadata": {
        "id": "tZ0sbhmODptq",
        "colab_type": "code",
        "colab": {}
      },
      "source": [
        "def get_num_correct(pred,labels):\n",
        "    return (pred.argmax(dim=1)==labels).sum().item()"
      ],
      "execution_count": 0,
      "outputs": []
    },
    {
      "cell_type": "code",
      "metadata": {
        "id": "UY7Sk8KlDul8",
        "colab_type": "code",
        "colab": {}
      },
      "source": [
        "def get_all_pred(network,loader):\n",
        "  all_preds = torch.tensor([])\n",
        "  for batch in loader:\n",
        "    images,labels = batch\n",
        "    pred = network(images)\n",
        "    all_preds = torch.cat((all_preds,pred),dim=0)\n",
        "\n",
        "  return all_preds"
      ],
      "execution_count": 0,
      "outputs": []
    },
    {
      "cell_type": "code",
      "metadata": {
        "id": "6NWmwpfvDx6y",
        "colab_type": "code",
        "colab": {
          "base_uri": "https://localhost:8080/",
          "height": 269
        },
        "outputId": "763568b9-5bd8-4636-b87c-823b0dd4f27d"
      },
      "source": [
        "data = torchvision.datasets.MNIST(\n",
        "    root = './data',\n",
        "    train = True,\n",
        "    download = True,\n",
        "    transform = transforms.Compose([transforms.ToTensor()])\n",
        ")"
      ],
      "execution_count": 6,
      "outputs": [
        {
          "output_type": "stream",
          "text": [
            "\r0it [00:00, ?it/s]"
          ],
          "name": "stderr"
        },
        {
          "output_type": "stream",
          "text": [
            "Downloading http://yann.lecun.com/exdb/mnist/train-images-idx3-ubyte.gz to ./data/MNIST/raw/train-images-idx3-ubyte.gz\n"
          ],
          "name": "stdout"
        },
        {
          "output_type": "stream",
          "text": [
            "9920512it [00:01, 8820191.85it/s]                            \n"
          ],
          "name": "stderr"
        },
        {
          "output_type": "stream",
          "text": [
            "Extracting ./data/MNIST/raw/train-images-idx3-ubyte.gz to ./data/MNIST/raw\n"
          ],
          "name": "stdout"
        },
        {
          "output_type": "stream",
          "text": [
            "  0%|          | 0/28881 [00:00<?, ?it/s]"
          ],
          "name": "stderr"
        },
        {
          "output_type": "stream",
          "text": [
            "Downloading http://yann.lecun.com/exdb/mnist/train-labels-idx1-ubyte.gz to ./data/MNIST/raw/train-labels-idx1-ubyte.gz\n"
          ],
          "name": "stdout"
        },
        {
          "output_type": "stream",
          "text": [
            "32768it [00:00, 123367.53it/s]                           \n",
            "  0%|          | 0/1648877 [00:00<?, ?it/s]"
          ],
          "name": "stderr"
        },
        {
          "output_type": "stream",
          "text": [
            "Extracting ./data/MNIST/raw/train-labels-idx1-ubyte.gz to ./data/MNIST/raw\n",
            "Downloading http://yann.lecun.com/exdb/mnist/t10k-images-idx3-ubyte.gz to ./data/MNIST/raw/t10k-images-idx3-ubyte.gz\n"
          ],
          "name": "stdout"
        },
        {
          "output_type": "stream",
          "text": [
            "1654784it [00:00, 2237495.78it/s]                            \n",
            "0it [00:00, ?it/s]"
          ],
          "name": "stderr"
        },
        {
          "output_type": "stream",
          "text": [
            "Extracting ./data/MNIST/raw/t10k-images-idx3-ubyte.gz to ./data/MNIST/raw\n",
            "Downloading http://yann.lecun.com/exdb/mnist/t10k-labels-idx1-ubyte.gz to ./data/MNIST/raw/t10k-labels-idx1-ubyte.gz\n"
          ],
          "name": "stdout"
        },
        {
          "output_type": "stream",
          "text": [
            "8192it [00:00, 51582.21it/s]            \n"
          ],
          "name": "stderr"
        },
        {
          "output_type": "stream",
          "text": [
            "Extracting ./data/MNIST/raw/t10k-labels-idx1-ubyte.gz to ./data/MNIST/raw\n",
            "Processing...\n",
            "Done!\n"
          ],
          "name": "stdout"
        }
      ]
    },
    {
      "cell_type": "code",
      "metadata": {
        "id": "sALwADGsD0vS",
        "colab_type": "code",
        "colab": {}
      },
      "source": [
        "sample = next(iter(data))"
      ],
      "execution_count": 0,
      "outputs": []
    },
    {
      "cell_type": "code",
      "metadata": {
        "id": "C0Ixz3fzD6vQ",
        "colab_type": "code",
        "outputId": "5229697d-d399-455d-d13e-654dc29c4212",
        "colab": {
          "base_uri": "https://localhost:8080/",
          "height": 35
        }
      },
      "source": [
        "image, label = sample\n",
        "image.shape"
      ],
      "execution_count": 8,
      "outputs": [
        {
          "output_type": "execute_result",
          "data": {
            "text/plain": [
              "torch.Size([1, 28, 28])"
            ]
          },
          "metadata": {
            "tags": []
          },
          "execution_count": 8
        }
      ]
    },
    {
      "cell_type": "code",
      "metadata": {
        "id": "fARl-YOGD-Pk",
        "colab_type": "code",
        "colab": {}
      },
      "source": [
        "parameters = dict(\n",
        "    batch_size = [32,64,128],\n",
        "    lr = [0.01,0.001],\n",
        "    shuffle = [True,False]\n",
        ")"
      ],
      "execution_count": 0,
      "outputs": []
    },
    {
      "cell_type": "code",
      "metadata": {
        "id": "okM7txHmEI__",
        "colab_type": "code",
        "outputId": "9d165575-8f76-421b-da4a-40f1d98be44c",
        "colab": {
          "base_uri": "https://localhost:8080/",
          "height": 35
        }
      },
      "source": [
        "param_vals = [v for v in parameters.values()]\n",
        "param_vals"
      ],
      "execution_count": 10,
      "outputs": [
        {
          "output_type": "execute_result",
          "data": {
            "text/plain": [
              "[[32, 64, 128], [0.01, 0.001], [True, False]]"
            ]
          },
          "metadata": {
            "tags": []
          },
          "execution_count": 10
        }
      ]
    },
    {
      "cell_type": "code",
      "metadata": {
        "id": "uSxy_YGLRS0m",
        "colab_type": "code",
        "colab": {}
      },
      "source": [
        "batch_size = 64\n",
        "test_split = 0.1\n",
        "shuffle_dataset = True\n",
        "random_seed= 42\n",
        "lr = 0.01\n",
        "\n",
        "dataset_size = len(data)\n",
        "indices = list(range(dataset_size))\n",
        "split = int(np.floor(test_split * dataset_size))\n",
        "if shuffle_dataset :\n",
        "    np.random.seed(random_seed)\n",
        "    np.random.shuffle(indices)\n",
        "train_indices, test_indices = indices[split:], indices[:split]\n",
        "\n",
        "train_sampler = SubsetRandomSampler(train_indices)\n",
        "test_sampler = SubsetRandomSampler(test_indices)\n",
        "\n",
        "train_loader = torch.utils.data.DataLoader(data, batch_size=batch_size, sampler=train_sampler)\n",
        "test_loader = torch.utils.data.DataLoader(data, batch_size=batch_size, sampler=test_sampler)"
      ],
      "execution_count": 0,
      "outputs": []
    },
    {
      "cell_type": "code",
      "metadata": {
        "id": "cIccFPvMNON3",
        "colab_type": "code",
        "outputId": "5f2cdd23-6ea6-4464-a10d-aa8f796b32ca",
        "colab": {
          "base_uri": "https://localhost:8080/",
          "height": 557
        }
      },
      "source": [
        "# Train the network\n",
        "network = Network().double()\n",
        "optimizer = optim.Adam(network.parameters(),lr=lr)\n",
        "\n",
        "for epoch in range(30):\n",
        "    total_loss = 0\n",
        "    total_correct = 0\n",
        "    for batch in train_loader:\n",
        "        images,labels = batch\n",
        "        images, labels = images.to(device), labels.to(device)\n",
        "        # forward pass\n",
        "        pred = network(images.double())\n",
        "        # calculate loss\n",
        "        loss = F.cross_entropy(pred,labels)\n",
        "        # restore the gradients to zero\n",
        "        optimizer.zero_grad()\n",
        "        # backward propagation\n",
        "        loss.backward()\n",
        "        # update the weights and biases\n",
        "        optimizer.step()\n",
        "        # net loss in the current batch of the current epoch\n",
        "        total_loss += loss.item()\n",
        "        # number of labels predicted correctly\n",
        "        total_correct += get_num_correct(pred,labels)\n",
        "        accuracy = total_correct/(len(data)-len(data)*test_split)\n",
        "        \n",
        "    print(f'epoch: {epoch}, total_loss: {total_loss}, total_correct: {total_correct}, accuracy: {accuracy}')"
      ],
      "execution_count": 14,
      "outputs": [
        {
          "output_type": "stream",
          "text": [
            "epoch: 0, total_loss: 214.9932042923824, total_correct: 49492, accuracy: 0.9165185185185185\n",
            "epoch: 1, total_loss: 79.52597368536823, total_correct: 52517, accuracy: 0.9725370370370371\n",
            "epoch: 2, total_loss: 68.24853704048758, total_correct: 52700, accuracy: 0.975925925925926\n",
            "epoch: 3, total_loss: 64.48540955127064, total_correct: 52792, accuracy: 0.9776296296296296\n",
            "epoch: 4, total_loss: 60.64246606695434, total_correct: 52891, accuracy: 0.979462962962963\n",
            "epoch: 5, total_loss: 62.49319409110348, total_correct: 52871, accuracy: 0.9790925925925926\n",
            "epoch: 6, total_loss: 57.91790889254193, total_correct: 52968, accuracy: 0.9808888888888889\n",
            "epoch: 7, total_loss: 53.09536468095587, total_correct: 53069, accuracy: 0.9827592592592592\n",
            "epoch: 8, total_loss: 52.707345680836134, total_correct: 53077, accuracy: 0.9829074074074075\n",
            "epoch: 9, total_loss: 57.2478216610421, total_correct: 53028, accuracy: 0.982\n",
            "epoch: 10, total_loss: 54.166793288163916, total_correct: 53088, accuracy: 0.9831111111111112\n",
            "epoch: 11, total_loss: 54.5622869624007, total_correct: 53099, accuracy: 0.9833148148148149\n",
            "epoch: 12, total_loss: 65.0754828786416, total_correct: 53024, accuracy: 0.981925925925926\n",
            "epoch: 13, total_loss: 55.33285705347367, total_correct: 53159, accuracy: 0.9844259259259259\n",
            "epoch: 14, total_loss: 47.07737549030455, total_correct: 53245, accuracy: 0.9860185185185185\n",
            "epoch: 15, total_loss: 50.33089708346804, total_correct: 53212, accuracy: 0.9854074074074074\n",
            "epoch: 16, total_loss: 42.1827971651766, total_correct: 53311, accuracy: 0.9872407407407408\n",
            "epoch: 17, total_loss: 65.91501208275908, total_correct: 53145, accuracy: 0.9841666666666666\n",
            "epoch: 18, total_loss: 48.20803113636692, total_correct: 53270, accuracy: 0.9864814814814815\n",
            "epoch: 19, total_loss: 51.99902383438444, total_correct: 53291, accuracy: 0.9868703703703704\n",
            "epoch: 20, total_loss: 60.85957005215973, total_correct: 53154, accuracy: 0.9843333333333333\n",
            "epoch: 21, total_loss: 48.58103979857727, total_correct: 53330, accuracy: 0.9875925925925926\n",
            "epoch: 22, total_loss: 75.42257989405131, total_correct: 53135, accuracy: 0.9839814814814815\n",
            "epoch: 23, total_loss: 71.91609786353857, total_correct: 53205, accuracy: 0.9852777777777778\n",
            "epoch: 24, total_loss: 32.55206588410134, total_correct: 53481, accuracy: 0.9903888888888889\n",
            "epoch: 25, total_loss: 43.12371100548816, total_correct: 53392, accuracy: 0.9887407407407407\n",
            "epoch: 26, total_loss: 55.4724854424122, total_correct: 53287, accuracy: 0.9867962962962963\n",
            "epoch: 27, total_loss: 41.225259023379046, total_correct: 53370, accuracy: 0.9883333333333333\n",
            "epoch: 28, total_loss: 66.90955749665464, total_correct: 53199, accuracy: 0.9851666666666666\n",
            "epoch: 29, total_loss: 37.14373844000386, total_correct: 53460, accuracy: 0.99\n"
          ],
          "name": "stdout"
        }
      ]
    },
    {
      "cell_type": "code",
      "metadata": {
        "id": "EPXBco96T1Ak",
        "colab_type": "code",
        "colab": {
          "base_uri": "https://localhost:8080/",
          "height": 35
        },
        "outputId": "c9a1535b-4d4f-4958-b1b0-3e9d7bebaed4"
      },
      "source": [
        "# Test on the test set\n",
        "\n",
        "total_loss = 0\n",
        "total_correct = 0\n",
        "true_labels = []\n",
        "pred_labels = []\n",
        "for batch in test_loader:\n",
        "  images, labels = batch\n",
        "  true_labels.append(labels.unsqueeze(0))\n",
        "  images, labels = images.to(device), labels.to(device)\n",
        "  # forward pass\n",
        "  pred = network(images.double())\n",
        "  # calculate loss\n",
        "  loss = F.cross_entropy(pred,labels)\n",
        "  pred_labels.append(pred.unsqueeze(0))\n",
        "  # number of labels predicted correctly\n",
        "  total_loss += loss.item()\n",
        "  total_correct += get_num_correct(pred,labels)\n",
        "  \n",
        "accuracy = total_correct/(len(data)*test_split)\n",
        "        \n",
        "print(f'total_loss: {total_loss}, total_correct: {total_correct}, accuracy: {accuracy}')"
      ],
      "execution_count": 185,
      "outputs": [
        {
          "output_type": "stream",
          "text": [
            "total_loss: 19.52978934843848, total_correct: 5856, accuracy: 0.976\n"
          ],
          "name": "stdout"
        }
      ]
    },
    {
      "cell_type": "code",
      "metadata": {
        "id": "EtX22QREPAX5",
        "colab_type": "code",
        "colab": {
          "base_uri": "https://localhost:8080/",
          "height": 35
        },
        "outputId": "a4ad8738-2a37-4c3e-c0d2-85f4e9a317e3"
      },
      "source": [
        "import itertools\n",
        "true_labels = list(itertools.chain.from_iterable(true_labels))\n",
        "true_labels = list(itertools.chain.from_iterable(true_labels))\n",
        "len(true_labels)"
      ],
      "execution_count": 186,
      "outputs": [
        {
          "output_type": "execute_result",
          "data": {
            "text/plain": [
              "6000"
            ]
          },
          "metadata": {
            "tags": []
          },
          "execution_count": 186
        }
      ]
    },
    {
      "cell_type": "code",
      "metadata": {
        "id": "2PrV84g_YZh6",
        "colab_type": "code",
        "colab": {}
      },
      "source": [
        "new = []\n",
        "for item in true_labels:\n",
        "  new.append(item.tolist())\n",
        "true_labels = new"
      ],
      "execution_count": 0,
      "outputs": []
    },
    {
      "cell_type": "code",
      "metadata": {
        "id": "kTBqohk4VJBk",
        "colab_type": "code",
        "colab": {}
      },
      "source": [
        "pred_labels = list(itertools.chain.from_iterable(pred_labels))\n",
        "pred_labels = list(itertools.chain.from_iterable(pred_labels))"
      ],
      "execution_count": 0,
      "outputs": []
    },
    {
      "cell_type": "code",
      "metadata": {
        "id": "mwXxZ054VS2J",
        "colab_type": "code",
        "colab": {}
      },
      "source": [
        "new = []\n",
        "for item in pred_labels:\n",
        "  x = item.tolist()\n",
        "  new.append(x.index(max(x)))\n",
        "pred_labels = new"
      ],
      "execution_count": 0,
      "outputs": []
    },
    {
      "cell_type": "code",
      "metadata": {
        "id": "wB5s0PVGLL_k",
        "colab_type": "code",
        "colab": {
          "base_uri": "https://localhost:8080/",
          "height": 323
        },
        "outputId": "5c35008a-4d9a-4402-8115-91fcab8c664e"
      },
      "source": [
        "report = classification_report(true_labels, pred_labels)\n",
        "print(report)"
      ],
      "execution_count": 191,
      "outputs": [
        {
          "output_type": "stream",
          "text": [
            "              precision    recall  f1-score   support\n",
            "\n",
            "           0       0.99      0.98      0.98       624\n",
            "           1       0.97      1.00      0.98       654\n",
            "           2       0.93      0.99      0.96       572\n",
            "           3       0.98      0.97      0.97       589\n",
            "           4       0.98      0.98      0.98       580\n",
            "           5       0.98      0.98      0.98       551\n",
            "           6       0.98      0.98      0.98       580\n",
            "           7       1.00      0.93      0.96       633\n",
            "           8       0.98      0.98      0.98       585\n",
            "           9       0.97      0.98      0.98       632\n",
            "\n",
            "    accuracy                           0.98      6000\n",
            "   macro avg       0.98      0.98      0.98      6000\n",
            "weighted avg       0.98      0.98      0.98      6000\n",
            "\n"
          ],
          "name": "stdout"
        }
      ]
    },
    {
      "cell_type": "code",
      "metadata": {
        "id": "OJoZtcVLO9Xt",
        "colab_type": "code",
        "colab": {
          "base_uri": "https://localhost:8080/",
          "height": 197
        },
        "outputId": "d2f5a2a3-98b5-44e8-b596-ad34bf9dd641"
      },
      "source": [
        "cm = confusion_matrix(true_labels, pred_labels)\n",
        "print(cm)"
      ],
      "execution_count": 192,
      "outputs": [
        {
          "output_type": "stream",
          "text": [
            "[[609   0   9   0   0   0   3   0   2   1]\n",
            " [  0 651   1   2   0   0   0   0   0   0]\n",
            " [  0   2 568   1   0   0   0   0   0   1]\n",
            " [  0   0  12 571   0   4   0   0   0   2]\n",
            " [  0   1   1   1 568   0   1   0   1   7]\n",
            " [  1   1   1   1   0 539   4   0   2   2]\n",
            " [  2   2   2   0   1   0 569   0   4   0]\n",
            " [  3  10  14   6   1   5   0 588   2   4]\n",
            " [  1   0   5   1   1   2   1   0 574   0]\n",
            " [  0   1   1   1   6   1   0   0   3 619]]\n"
          ],
          "name": "stdout"
        }
      ]
    },
    {
      "cell_type": "code",
      "metadata": {
        "id": "vFtYeALEUQC4",
        "colab_type": "code",
        "colab": {
          "base_uri": "https://localhost:8080/",
          "height": 895
        },
        "outputId": "e310d98d-8d20-407f-e6b8-1095c41083d2"
      },
      "source": [
        "df_cm = pd.DataFrame(cm)\n",
        "df_cm.index.name = 'True Label'\n",
        "df_cm.columns.name = 'Predicted Label'\n",
        "plt.figure(figsize = (15,15))\n",
        "sn.heatmap(df_cm,cmap=\"Blues\",annot=True,fmt='d',linewidths=.5)"
      ],
      "execution_count": 195,
      "outputs": [
        {
          "output_type": "execute_result",
          "data": {
            "text/plain": [
              "<matplotlib.axes._subplots.AxesSubplot at 0x7fa9cd0ca5f8>"
            ]
          },
          "metadata": {
            "tags": []
          },
          "execution_count": 195
        },
        {
          "output_type": "display_data",
          "data": {
            "image/png": "[encoded data removed]",
            "text/plain": [
              "<Figure size 1080x1080 with 2 Axes>"
            ]
          },
          "metadata": {
            "tags": []
          }
        }
      ]
    },
    {
      "cell_type": "code",
      "metadata": {
        "id": "GslxiNbUZxcy",
        "colab_type": "code",
        "colab": {}
      },
      "source": [
        ""
      ],
      "execution_count": 0,
      "outputs": []
    }
  ]
}