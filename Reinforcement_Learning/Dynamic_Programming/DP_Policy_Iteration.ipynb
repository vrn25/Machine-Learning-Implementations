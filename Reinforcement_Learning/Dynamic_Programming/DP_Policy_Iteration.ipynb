{
 "cells": [
  {
   "cell_type": "code",
   "execution_count": 1,
   "metadata": {
    "colab": {},
    "colab_type": "code",
    "id": "bB6Igzy8tE_L"
   },
   "outputs": [],
   "source": [
    "import numpy as np\n",
    "from GridWorld import env"
   ]
  },
  {
   "cell_type": "code",
   "execution_count": 2,
   "metadata": {
    "colab": {},
    "colab_type": "code",
    "id": "aXAyulrEtO05"
   },
   "outputs": [],
   "source": [
    "def policy_eval(policy, discount_factor, theta = 0.00000001):\n",
    "  # Value function initialized to 0 for all states\n",
    "  val_func = np.zeros(num_states)\n",
    "  while True:\n",
    "    delta = 0\n",
    "    # For each state in the state-space\n",
    "    for curr_state in range(num_states):\n",
    "      # New value for each state\n",
    "      updated_val = 0\n",
    "      # For each of the possible actions in the current state\n",
    "      # action_prob: Probability of taking curr_action in curr_state\n",
    "      for curr_action, action_prob in enumerate(policy[curr_state]):\n",
    "        # prob: State Transition Probability\n",
    "        # reward, next_state: Immediate reward and next state on taking curr_action in curr_state\n",
    "        # isdone: Whether the next state is Terminal or not\n",
    "        prob, next_state, reward, isdone = env(curr_state, curr_action, rows, columns)\n",
    "        # Bellman Expectation equation\n",
    "        updated_val += action_prob * prob * (reward + discount_factor * val_func[next_state])\n",
    "      # delta: absolute change in the values\n",
    "      delta = max(delta, np.abs(updated_val - val_func[curr_state]))\n",
    "      val_func[curr_state] = updated_val\n",
    "    if delta < theta:\n",
    "      break\n",
    "  return val_func"
   ]
  },
  {
   "cell_type": "code",
   "execution_count": 3,
   "metadata": {
    "colab": {},
    "colab_type": "code",
    "id": "_0udHiy8tQti"
   },
   "outputs": [],
   "source": [
    "def policy_improve(policy, discount_factor = 0.999):\n",
    "  # Current policy assumed to be best initially\n",
    "  policy_stable = True\n",
    "  # Evaluate the current policy to get Value function for that policy\n",
    "  val_func = policy_eval(policy, discount_factor)\n",
    "  # For each state in state-space\n",
    "  for curr_state in range(num_states):\n",
    "    # The action that would be picked with most probability under the current policy\n",
    "    curr_action = np.argmax(policy[curr_state])\n",
    "    A = np.zeros(num_actions)\n",
    "    # For each action available in the current state\n",
    "    for action in range(num_actions):\n",
    "      # prob: State Transition Probability\n",
    "      # reward, next_state: Immediate reward and next state on taking curr_action in curr_state\n",
    "      # isdone: Whether the next state is Terminal or not\n",
    "      prob, next_state, reward, isdone = env(curr_state, action, rows, columns)\n",
    "      A[action] = prob * (reward + discount_factor * val_func[next_state])\n",
    "    # Bellman Optimality equation (Action taken Greedily)\n",
    "    best_action = np.argmax(A)\n",
    "    # Update the policy\n",
    "    policy[curr_state] = np.eye(num_actions)[best_action]\n",
    "    # Check if the Action taken under new policy is same as the old policy\n",
    "    if(best_action != curr_action):\n",
    "      # Turn policy_stable off if both are not same\n",
    "      policy_stable = False\n",
    "  # Current poloicy is an Optimal policy if policy_stable is True\n",
    "  if(policy_stable):\n",
    "    return policy, val_func\n",
    "  else:\n",
    "    return policy_improve(policy, discount_factor)"
   ]
  },
  {
   "cell_type": "code",
   "execution_count": 8,
   "metadata": {
    "colab": {
     "base_uri": "https://localhost:8080/",
     "height": 557
    },
    "colab_type": "code",
    "id": "412bS9icueLr",
    "outputId": "2a4386cc-7d81-4360-b34d-36048d5e9390"
   },
   "outputs": [
    {
     "name": "stdout",
     "output_type": "stream",
     "text": [
      "Determinsitic Policy:\n",
      " [[1. 0. 0. 0.]\n",
      " [0. 0. 0. 1.]\n",
      " [0. 0. 0. 1.]\n",
      " [0. 0. 0. 1.]\n",
      " [0. 0. 0. 1.]\n",
      " [0. 1. 0. 0.]\n",
      " [0. 1. 0. 0.]\n",
      " [1. 0. 0. 0.]\n",
      " [1. 0. 0. 0.]\n",
      " [1. 0. 0. 0.]\n",
      " [1. 0. 0. 0.]\n",
      " [1. 0. 0. 0.]\n",
      " [0. 1. 0. 0.]\n",
      " [0. 1. 0. 0.]\n",
      " [1. 0. 0. 0.]\n",
      " [1. 0. 0. 0.]\n",
      " [1. 0. 0. 0.]\n",
      " [1. 0. 0. 0.]\n",
      " [0. 1. 0. 0.]\n",
      " [0. 1. 0. 0.]\n",
      " [0. 1. 0. 0.]\n",
      " [1. 0. 0. 0.]\n",
      " [1. 0. 0. 0.]\n",
      " [1. 0. 0. 0.]\n",
      " [0. 1. 0. 0.]\n",
      " [0. 1. 0. 0.]\n",
      " [0. 1. 0. 0.]\n",
      " [0. 1. 0. 0.]\n",
      " [1. 0. 0. 0.]\n",
      " [1. 0. 0. 0.]\n",
      " [0. 0. 1. 0.]\n",
      " [0. 0. 1. 0.]\n",
      " [0. 0. 1. 0.]\n",
      " [0. 0. 1. 0.]\n",
      " [1. 0. 0. 0.]]\n",
      "Value Function:\n",
      " [[ 0.        0.       -1.       -1.999    -2.997001 -3.994004 -2.997001]\n",
      " [ 0.       -1.       -1.999    -2.997001 -3.994004 -2.997001 -1.999   ]\n",
      " [-1.       -1.999    -2.997001 -3.994004 -2.997001 -1.999    -1.      ]\n",
      " [-1.999    -2.997001 -3.994004 -2.997001 -1.999    -1.        0.      ]\n",
      " [-2.997001 -3.994004 -2.997001 -1.999    -1.        0.        0.      ]]\n"
     ]
    }
   ],
   "source": [
    "num_actions = 4\n",
    "rows = 5\n",
    "columns = 7\n",
    "num_states = rows * columns\n",
    "# Initial Uniform Random Policy\n",
    "policy = np.ones([num_states, num_actions])/num_actions \n",
    "policy, val_func = policy_improve(policy = policy)\n",
    "# Deterministic Policy returned\n",
    "print(f'Determinsitic Policy:\\n {policy}')\n",
    "print(f'Value Function:\\n {val_func.reshape(rows, columns)}')"
   ]
  },
  {
   "cell_type": "code",
   "execution_count": null,
   "metadata": {
    "colab": {},
    "colab_type": "code",
    "id": "-4whyc7z1-H7"
   },
   "outputs": [],
   "source": []
  }
 ],
 "metadata": {
  "colab": {
   "name": "DP-Policy_Iteration.ipynb",
   "provenance": []
  },
  "kernelspec": {
   "display_name": "Python 3",
   "language": "python",
   "name": "python3"
  },
  "language_info": {
   "codemirror_mode": {
    "name": "ipython",
    "version": 3
   },
   "file_extension": ".py",
   "mimetype": "text/x-python",
   "name": "python",
   "nbconvert_exporter": "python",
   "pygments_lexer": "ipython3",
   "version": "3.7.3"
  }
 },
 "nbformat": 4,
 "nbformat_minor": 1
}
