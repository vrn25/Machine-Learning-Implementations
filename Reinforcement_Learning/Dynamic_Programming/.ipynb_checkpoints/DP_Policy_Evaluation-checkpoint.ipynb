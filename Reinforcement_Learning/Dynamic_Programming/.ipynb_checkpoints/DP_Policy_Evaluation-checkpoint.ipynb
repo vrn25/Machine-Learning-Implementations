{
 "cells": [
  {
   "cell_type": "code",
   "execution_count": 1,
   "metadata": {},
   "outputs": [],
   "source": [
    "import numpy as np\n",
    "from GridWorld import env"
   ]
  },
  {
   "cell_type": "code",
   "execution_count": 2,
   "metadata": {
    "colab": {},
    "colab_type": "code",
    "id": "p1zSUAmzYkcL"
   },
   "outputs": [],
   "source": [
    "def policy_eval(policy, discount_factor = 0.999, theta = 0.00000001):\n",
    "  # Value function initialized to 0 for all states\n",
    "  val_func = np.zeros(num_states)\n",
    "  while True:\n",
    "    delta = 0\n",
    "    # For each state in the state-space\n",
    "    for curr_state in range(num_states):\n",
    "      # New value for each state\n",
    "      updated_val = 0\n",
    "      # For each of the possible actions in the current state\n",
    "      # action_prob: Probability of taking curr_action in curr_state\n",
    "      for curr_action, action_prob in enumerate(policy[curr_state]):\n",
    "        # prob: State Transition Probability\n",
    "        # reward, next_state: Immediate reward and next state on taking curr_action in curr_state\n",
    "        # isdone: Whether the next state is Terminal or not\n",
    "        prob, next_state, reward, isdone = env(curr_state, curr_action, rows, columns)\n",
    "        # Bellman Expectation equation\n",
    "        updated_val += action_prob * prob * (reward + discount_factor * val_func[next_state])\n",
    "      # delta: absolute change in the values\n",
    "      delta = max(delta, np.abs(updated_val - val_func[curr_state]))\n",
    "      val_func[curr_state] = updated_val\n",
    "    if delta < theta:\n",
    "      break\n",
    "  return val_func"
   ]
  },
  {
   "cell_type": "code",
   "execution_count": 3,
   "metadata": {
    "colab": {
     "base_uri": "https://localhost:8080/",
     "height": 107
    },
    "colab_type": "code",
    "id": "aDRwRHmX--kU",
    "outputId": "863c9573-0878-404c-a2ac-bca4f2ae631a"
   },
   "outputs": [
    {
     "name": "stdout",
     "output_type": "stream",
     "text": [
      "Value Function:\n",
      " [[  0.         -13.76222671 -19.64826244 -21.60700716]\n",
      " [-13.76222671 -17.68951773 -19.65022119 -19.64826245]\n",
      " [-19.64826244 -19.65022119 -17.68951773 -13.76222672]\n",
      " [-21.60700716 -19.64826245 -13.76222672   0.        ]]\n"
     ]
    }
   ],
   "source": [
    "num_actions = 4\n",
    "rows = 4\n",
    "columns = 4\n",
    "num_states = rows * columns\n",
    "# Uniform Random Policy\n",
    "policy = np.ones([num_states, num_actions])/num_actions \n",
    "val_func = policy_eval(policy = policy)\n",
    "print(f'Value Function:\\n {val_func.reshape(rows, columns)}')"
   ]
  },
  {
   "cell_type": "code",
   "execution_count": null,
   "metadata": {
    "colab": {},
    "colab_type": "code",
    "id": "yUyLFwAbf4bH"
   },
   "outputs": [],
   "source": []
  }
 ],
 "metadata": {
  "accelerator": "GPU",
  "colab": {
   "name": "DP-Policy_Evaluation.ipynb",
   "provenance": []
  },
  "kernelspec": {
   "display_name": "Python 3",
   "language": "python",
   "name": "python3"
  },
  "language_info": {
   "codemirror_mode": {
    "name": "ipython",
    "version": 3
   },
   "file_extension": ".py",
   "mimetype": "text/x-python",
   "name": "python",
   "nbconvert_exporter": "python",
   "pygments_lexer": "ipython3",
   "version": "3.7.3"
  }
 },
 "nbformat": 4,
 "nbformat_minor": 1
}
