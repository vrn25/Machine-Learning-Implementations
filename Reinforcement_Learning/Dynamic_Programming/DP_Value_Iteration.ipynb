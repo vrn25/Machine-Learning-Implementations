{
 "cells": [
  {
   "cell_type": "code",
   "execution_count": 1,
   "metadata": {},
   "outputs": [],
   "source": [
    "import numpy as np\n",
    "from GridWorld import env"
   ]
  },
  {
   "cell_type": "code",
   "execution_count": 2,
   "metadata": {},
   "outputs": [],
   "source": [
    "def value_iter(policy, discount_factor = 0.99, theta = 0000000.1):\n",
    "    # Value function initialized to 0 for all states\n",
    "    val_func = np.zeros(num_states)\n",
    "    while True:\n",
    "        delta = 0\n",
    "        # For each state in the state-space\n",
    "        for curr_state in range(num_states):\n",
    "            A = np.zeros(num_actions)\n",
    "            # Find the values for all actions from curr_state\n",
    "            for action in range(num_actions):\n",
    "                prob, next_state, reward, isdone = env(curr_state, action, rows, columns)\n",
    "                A[action] = prob * (reward + discount_factor * val_func[next_state])\n",
    "            best_action = np.argmax(A)\n",
    "            # Maximum value from all possible actions\n",
    "            new_val = np.max(A)\n",
    "            # Update the policy to be Greedy\n",
    "            policy[curr_state] = np.eye(num_actions)[best_action]\n",
    "            # Find the change in value for the curr_state\n",
    "            delta = max(delta, np.abs(new_val - val_func[curr_state]))\n",
    "            # Update value for the curr_state\n",
    "            val_func[curr_state] = new_val\n",
    "        # Check if change in value is lesser than theta\n",
    "        if delta < theta:\n",
    "            break\n",
    "    return policy, val_func"
   ]
  },
  {
   "cell_type": "code",
   "execution_count": 5,
   "metadata": {},
   "outputs": [
    {
     "name": "stdout",
     "output_type": "stream",
     "text": [
      "Determinsitic Policy: [[1. 0. 0. 0.]\n",
      " [0. 0. 0. 1.]\n",
      " [0. 0. 0. 1.]\n",
      " [0. 0. 0. 1.]\n",
      " [0. 1. 0. 0.]\n",
      " [0. 1. 0. 0.]\n",
      " [1. 0. 0. 0.]\n",
      " [1. 0. 0. 0.]\n",
      " [1. 0. 0. 0.]\n",
      " [1. 0. 0. 0.]\n",
      " [0. 1. 0. 0.]\n",
      " [0. 1. 0. 0.]\n",
      " [1. 0. 0. 0.]\n",
      " [1. 0. 0. 0.]\n",
      " [1. 0. 0. 0.]\n",
      " [0. 1. 0. 0.]\n",
      " [0. 1. 0. 0.]\n",
      " [0. 1. 0. 0.]\n",
      " [1. 0. 0. 0.]\n",
      " [1. 0. 0. 0.]\n",
      " [0. 0. 1. 0.]\n",
      " [0. 0. 1. 0.]\n",
      " [0. 0. 1. 0.]\n",
      " [1. 0. 0. 0.]]\n",
      "Value Function: [[ 0.      0.     -1.     -1.99   -2.9701 -1.99  ]\n",
      " [ 0.     -1.     -1.99   -2.9701 -1.99   -1.    ]\n",
      " [-1.     -1.99   -2.9701 -1.99   -1.      0.    ]\n",
      " [-1.99   -2.9701 -1.99   -1.      0.      0.    ]]\n"
     ]
    }
   ],
   "source": [
    "num_actions = 4\n",
    "rows = 4\n",
    "columns = 6\n",
    "num_states = rows * columns\n",
    "# Initial Uniform Random Policy\n",
    "policy = np.ones([num_states, num_actions])/num_actions \n",
    "policy, val_func = value_iter(policy = policy)\n",
    "# Deterministic Policy returned\n",
    "print(f'Determinsitic Policy: {policy}')\n",
    "print(f'Value Function: {val_func.reshape(rows, columns)}')"
   ]
  },
  {
   "cell_type": "code",
   "execution_count": null,
   "metadata": {},
   "outputs": [],
   "source": []
  }
 ],
 "metadata": {
  "kernelspec": {
   "display_name": "Python 3",
   "language": "python",
   "name": "python3"
  },
  "language_info": {
   "codemirror_mode": {
    "name": "ipython",
    "version": 3
   },
   "file_extension": ".py",
   "mimetype": "text/x-python",
   "name": "python",
   "nbconvert_exporter": "python",
   "pygments_lexer": "ipython3",
   "version": "3.7.3"
  }
 },
 "nbformat": 4,
 "nbformat_minor": 2
}
