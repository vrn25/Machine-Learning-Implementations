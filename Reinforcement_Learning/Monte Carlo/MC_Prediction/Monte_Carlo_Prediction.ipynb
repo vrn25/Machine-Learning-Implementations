{
 "cells": [
  {
   "cell_type": "code",
   "execution_count": 1,
   "metadata": {},
   "outputs": [],
   "source": [
    "import numpy as np"
   ]
  },
  {
   "cell_type": "code",
   "execution_count": 38,
   "metadata": {},
   "outputs": [],
   "source": [
    "'''\n",
    "######################################### BLACKJACK ################################################\n",
    "\n",
    "The objective of the game is to form a group of cards with\n",
    "the sum closest to 21 without going over. All the face cards\n",
    "count as 10 and an ace can be counted as either 1 or 11 (ace is usable if it counts 11). \n",
    "Initially, the dealer and the player have two cards each. \n",
    "One card of the dealer is faced up and other faced down. If the\n",
    "player already has a sum of 21 (an ace and a 10-card) then it is called a natural and he wins, \n",
    "unless the dealer also has a natural, in which case it is a draw. \n",
    "Otherwise, the player has two options: \n",
    "he either hits (continue to withdraw a card from the deck) \n",
    "or sticks (stop picking cards and let dealer play). \n",
    "The player can also go bust (sum exceeds 21) while hitting, in which case the dealerwins.\n",
    "\n",
    "The dealer hits or sticks with a fixed strategy. He sticks if the sum is 17 or greater and hits \n",
    "otherwise. If the dealer goes bust, then the player wins. \n",
    "\n",
    "If both don't go bust, then the winner is the one whose sum is closest to 21.\n",
    "\n",
    "The game of Blackjack can formulated as an episodic finite MDP.\n",
    "An MDP consists of: <S, A, P, R, Gamma>\n",
    "\n",
    "Each game results in either a win or loose or a draw between the player and the dealer\n",
    "\n",
    "States: Here the outcome of the game is decided by 3 factors-\n",
    "            The player's current sum (12-21)\n",
    "            The dealer's show card (ace-10)\n",
    "            Whether the player has a usable ace or not\n",
    "        This makes a total of 10*10*2 = 200 states. Each of these 200 states is a 3-tuple comprising of the three values as above.\n",
    "\n",
    "Actions: The player can either hit (1) or stick (0).\n",
    "         \n",
    "State Transition Probability: The environment is deterministic, hence it is 1 from any pair of states and actions.\n",
    "\n",
    "Rewards: Rewards of +1,0,-1 is given on winning,drawing,losing the game respectively. There are on intermediate rewards.\n",
    "\n",
    "Gamma: Discount factor gamma. It is taken as 1 for this task.\n",
    "\n",
    "The game ends when one of them goes bust or both decide to stick.\n",
    "\n",
    "Player's policy: The player sticks if the sum is 20 or 21, and otherwise sticks.\n",
    "\n",
    "'''\n",
    "MAX_SUM = 21\n",
    "MIN_SUM = 12\n",
    "MIN_CARD = 1\n",
    "MAX_CARD = 10\n",
    "def reward():\n",
    "    pass\n",
    "def isdone():\n",
    "    pass\n",
    "\n",
    "def env(state,action):\n",
    "    #isnatural = lambda state: if(state[0] == 21)\n",
    "    pass"
   ]
  },
  {
   "cell_type": "code",
   "execution_count": 42,
   "metadata": {},
   "outputs": [],
   "source": [
    "def mc_pred():\n",
    "    VF = np.zeros(num_states)\n",
    "    return_sum = np.zeros(num_states)\n",
    "    return_count = np.zeros(num_states)\n",
    "    for episode_idx in range(episodes):\n",
    "        episode = []\n",
    "        curr_state = tuple(np.random.randint(MIN_SUM, MAX_SUM + 1), np.random.randint(MIN_CARD, MAX_CARD), np.random.randint(0,num_actions))\n",
    "        while True:\n",
    "            curr_action = policy(curr_state)\n",
    "            prob, next_state, reward, isdone = env(curr_state, curr_action)\n",
    "            episode.append(tuple(curr_state, curr_action, reward))\n",
    "            curr_state = next_state\n",
    "            if isdone:\n",
    "                break\n",
    "        visited = [False] * num_states\n",
    "        for idx, ep in enumerate(episode):\n",
    "            state = ep[0]\n",
    "            state_idx = (state[0]-MIN_SUM)*(MAX_SUM-MIN_SUM) + (state[1]-MIN_CARD)*(MAX_CARD-MIN_CARD) + state[2]\n",
    "            if(not visited[state_idx]):\n",
    "                for i,e in enumerate(episode):\n",
    "                    if(i>=idx):\n",
    "                        G += G + (discount_factor**(i-idx))*e[2]\n",
    "                return_sum[state_idx] += G\n",
    "                return_count[state_idx] += 1\n",
    "                VF[state_idx] = return_sum[state_idx]/ return_count[state]\n",
    "            visited[val] = True\n",
    "    \n",
    "    return VF"
   ]
  },
  {
   "cell_type": "code",
   "execution_count": 39,
   "metadata": {},
   "outputs": [
    {
     "data": {
      "text/plain": [
       "1"
      ]
     },
     "execution_count": 39,
     "metadata": {},
     "output_type": "execute_result"
    }
   ],
   "source": [
    "a=[6,4,6,7,4,7,6]\n",
    "[i for i,x in enumerate(a) if x==4][0]"
   ]
  },
  {
   "cell_type": "code",
   "execution_count": 35,
   "metadata": {},
   "outputs": [
    {
     "data": {
      "text/plain": [
       "[1, 4]"
      ]
     },
     "execution_count": 35,
     "metadata": {},
     "output_type": "execute_result"
    }
   ],
   "source": [
    "b"
   ]
  },
  {
   "cell_type": "code",
   "execution_count": 40,
   "metadata": {},
   "outputs": [
    {
     "data": {
      "text/plain": [
       "32"
      ]
     },
     "execution_count": 40,
     "metadata": {},
     "output_type": "execute_result"
    }
   ],
   "source": [
    "2**5"
   ]
  },
  {
   "cell_type": "code",
   "execution_count": null,
   "metadata": {},
   "outputs": [],
   "source": []
  }
 ],
 "metadata": {
  "kernelspec": {
   "display_name": "Python 3",
   "language": "python",
   "name": "python3"
  },
  "language_info": {
   "codemirror_mode": {
    "name": "ipython",
    "version": 3
   },
   "file_extension": ".py",
   "mimetype": "text/x-python",
   "name": "python",
   "nbconvert_exporter": "python",
   "pygments_lexer": "ipython3",
   "version": "3.7.3"
  }
 },
 "nbformat": 4,
 "nbformat_minor": 2
}
